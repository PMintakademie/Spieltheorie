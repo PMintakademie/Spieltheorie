{
 "cells": [
  {
   "cell_type": "code",
   "execution_count": 1251,
   "metadata": {},
   "outputs": [],
   "source": [
    "import numpy as np\n",
    "import matplotlib.pyplot as plt\n",
    "from random import shuffle"
   ]
  },
  {
   "cell_type": "code",
   "execution_count": 1252,
   "metadata": {},
   "outputs": [],
   "source": [
    "# Kartenfarbe: 0 = Karo; 1 = Herz; 2 = Pik; 3 = Kreuz\n",
    "# Kartenbezeichnung: 0 = 7; 1 = 8; 2 = 9; 3 = Bube; 4 = Dame; 5 = König; 6 = Ass\n",
    "card_values = [7, 8, 9, 10, 10, 10, 11]"
   ]
  },
  {
   "cell_type": "code",
   "execution_count": 1253,
   "metadata": {},
   "outputs": [],
   "source": [
    "deck= []\n",
    "for i in range(4):\n",
    "    for j in range(7):\n",
    "        deck.append((i,j))\n",
    "shuffle(deck)"
   ]
  },
  {
   "cell_type": "code",
   "execution_count": 1254,
   "metadata": {},
   "outputs": [],
   "source": [
    "hand = deck[:3]\n",
    "oponent_Hand_1 = deck[3:6]\n",
    "oponent_hand_2 = deck[6:9]\n",
    "open_cards = deck[9:12]\n",
    "remainder = deck[12:]"
   ]
  },
  {
   "cell_type": "code",
   "execution_count": 1255,
   "metadata": {},
   "outputs": [],
   "source": [
    "def hand_sum(hand):\n",
    "    points = np.zeros(4)\n",
    "    for elem in hand:\n",
    "        points[elem[0]] += card_values[elem[1]]\n",
    "    return np.max(points)"
   ]
  },
  {
   "cell_type": "code",
   "execution_count": 1256,
   "metadata": {},
   "outputs": [],
   "source": [
    "def turn(hand, open_cards):\n",
    "    best_card = [hand_sum(hand), None, None]\n",
    "    for card in open_cards:\n",
    "        for position in range(3):\n",
    "            test_hand = hand.copy()\n",
    "            test_hand[position] = card\n",
    "            handsum = hand_sum(test_hand)\n",
    "            if handsum > best_card[0]:\n",
    "                best_card[0], best_card[1], best_card[2] = handsum, open_cards.index(card), position\n",
    "    if hand_sum(hand) < hand_sum(open_cards):\n",
    "        hand, open_cards = open_cards, hand\n",
    "        return False\n",
    "    if best_card[1] != None:\n",
    "        hand[best_card[2]], open_cards[best_card[1]] = open_cards[best_card[1]], hand[best_card[2]]\n",
    "    if hand_sum(hand) == 31:\n",
    "        return True\n",
    "    return \"nothing\""
   ]
  },
  {
   "cell_type": "code",
   "execution_count": 1257,
   "metadata": {},
   "outputs": [
    {
     "name": "stdout",
     "output_type": "stream",
     "text": [
      "[(0, 4), (1, 4), (3, 6)] 11.0\n",
      "[(3, 5), (3, 4), (1, 0)] 20.0\n",
      "[(2, 5), (2, 4), (0, 1)] 20.0\n",
      "[(0, 4), (1, 4), (3, 6)] 11.0\n",
      "Schiebung\n",
      "[(3, 5), (3, 4), (3, 2)] 29.0\n",
      "[(2, 5), (2, 4), (2, 0)] 27.0\n",
      "[(3, 1), (1, 4), (3, 6)] 19.0\n",
      "[(3, 5), (3, 4), (3, 3)] 30.0\n",
      "[(2, 5), (2, 4), (2, 0)] 27.0\n",
      "[(3, 1), (3, 2), (3, 6)] 28.0\n",
      "[(3, 5), (3, 4), (3, 3)] 30.0\n",
      "[(2, 5), (2, 4), (2, 0)] 27.0\n",
      "[(3, 1), (3, 2), (3, 6)] 28.0\n",
      "[(3, 5), (3, 4), (3, 3)] 30.0\n",
      "[(2, 5), (2, 4), (2, 0)] 27.0\n",
      "[(3, 1), (3, 2), (3, 6)] 28.0\n",
      "[(3, 5), (3, 4), (3, 3)] 30.0\n",
      "[(2, 5), (2, 4), (2, 0)] 27.0\n",
      "[(3, 1), (3, 2), (3, 6)] 28.0\n",
      "[(3, 5), (3, 4), (3, 3)] 30.0\n",
      "[(2, 5), (2, 4), (2, 0)] 27.0\n",
      "[(3, 1), (3, 2), (3, 6)] 28.0\n",
      "[(3, 5), (3, 4), (3, 3)] 30.0\n",
      "[(2, 5), (2, 4), (2, 0)] 27.0\n",
      "[(3, 1), (3, 2), (3, 6)] 28.0\n",
      "[(3, 5), (3, 4), (3, 3)] 30.0\n",
      "[(2, 5), (2, 4), (2, 0)] 27.0\n",
      "[(3, 1), (3, 2), (3, 6)] 28.0\n",
      "[(3, 5), (3, 4), (3, 3)] 30.0\n",
      "[(2, 5), (2, 4), (2, 0)] 27.0\n",
      "[(3, 1), (3, 2), (3, 6)] 28.0\n",
      "[(3, 5), (3, 4), (3, 3)] 30.0\n",
      "[(2, 5), (2, 4), (2, 0)] 27.0\n",
      "[(3, 1), (3, 2), (3, 6)] 28.0\n",
      "[(3, 5), (3, 4), (3, 3)] 30.0\n",
      "[(2, 5), (2, 4), (2, 0)] 27.0\n",
      "[(3, 1), (3, 2), (3, 6)] 28.0\n",
      "[(3, 5), (3, 4), (3, 3)] 30.0\n",
      "[(2, 5), (2, 4), (2, 0)] 27.0\n",
      "[(3, 1), (3, 2), (3, 6)] 28.0\n",
      "[(3, 5), (3, 4), (3, 3)] 30.0\n",
      "[(2, 5), (2, 4), (2, 0)] 27.0\n",
      "[(3, 1), (3, 2), (3, 6)] 28.0\n",
      "[(3, 5), (3, 4), (3, 3)] 30.0\n",
      "[(2, 5), (2, 4), (2, 0)] 27.0\n",
      "[(3, 1), (3, 2), (3, 6)] 28.0\n",
      "[(3, 5), (3, 4), (3, 3)] 30.0\n",
      "[(2, 5), (2, 4), (2, 0)] 27.0\n",
      "[(3, 1), (3, 2), (3, 6)] 28.0\n",
      "[(3, 5), (3, 4), (3, 3)] 30.0\n"
     ]
    }
   ],
   "source": [
    "no_action = 0\n",
    "players = [hand, oponent_Hand_1, oponent_hand_2]\n",
    "for i in range(50):\n",
    "    if no_action == 3:\n",
    "        print(\"Schiebung\")\n",
    "        open_cards, remainder[:3] = remainder[:3], open_cards\n",
    "        shuffle(remainder)\n",
    "    print(players[i%3], hand_sum(players[i%3]))\n",
    "    outcome = turn(players[i%3], open_cards)\n",
    "    if outcome == True:\n",
    "        print(f'Player {i%3 + 1} wins.')\n",
    "        break\n",
    "    if outcome == \"nothing\":\n",
    "        no_action += 1\n",
    "        "
   ]
  },
  {
   "cell_type": "markdown",
   "metadata": {},
   "source": []
  },
  {
   "cell_type": "code",
   "execution_count": 1258,
   "metadata": {},
   "outputs": [
    {
     "data": {
      "text/plain": [
       "0"
      ]
     },
     "execution_count": 1258,
     "metadata": {},
     "output_type": "execute_result"
    }
   ],
   "source": [
    "15%3"
   ]
  },
  {
   "cell_type": "code",
   "execution_count": null,
   "metadata": {},
   "outputs": [],
   "source": []
  },
  {
   "cell_type": "code",
   "execution_count": null,
   "metadata": {},
   "outputs": [],
   "source": []
  }
 ],
 "metadata": {
  "kernelspec": {
   "display_name": "Python 3",
   "language": "python",
   "name": "python3"
  },
  "language_info": {
   "codemirror_mode": {
    "name": "ipython",
    "version": 3
   },
   "file_extension": ".py",
   "mimetype": "text/x-python",
   "name": "python",
   "nbconvert_exporter": "python",
   "pygments_lexer": "ipython3",
   "version": "3.11.4"
  },
  "orig_nbformat": 4
 },
 "nbformat": 4,
 "nbformat_minor": 2
}
